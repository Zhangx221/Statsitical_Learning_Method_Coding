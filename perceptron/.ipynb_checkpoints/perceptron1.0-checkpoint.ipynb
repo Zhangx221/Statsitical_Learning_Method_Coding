{
 "cells": [
  {
   "cell_type": "code",
   "execution_count": 1,
   "id": "28b8ff0a",
   "metadata": {
    "scrolled": true
   },
   "outputs": [
    {
     "name": "stdout",
     "output_type": "stream",
     "text": [
      "Microsoft Windows [版本 10.0.19041.1415]\r\n",
      "(c) Microsoft Corporation。保留所有权利。\r\n",
      "\r\n",
      "(base) F:\\Statsitical Learning Method\\perceptron>pip install watermark\n",
      "Looking in indexes: https://pypi.tuna.tsinghua.edu.cn/simple\r\n",
      "Collecting watermark\r\n",
      "  Downloading https://pypi.tuna.tsinghua.edu.cn/packages/8a/d5/22995b65f10507813ff6e6988f810720ab0fc8a30f21a3d09302629e7b3d/watermark-2.3.0-py2.py3-none-any.whl (7.2 kB)\r\n",
      "Requirement already satisfied: ipython in e:\\soft\\anaconda\\lib\\site-packages (from watermark) (7.22.0)\r\n",
      "Requirement already satisfied: backcall in e:\\soft\\anaconda\\lib\\site-packages (from ipython->watermark) (0.2.0)\r\n",
      "Requirement already satisfied: pygments in e:\\soft\\anaconda\\lib\\site-packages (from ipython->watermark) (2.8.1)\r\n",
      "Requirement already satisfied: setuptools>=18.5 in e:\\soft\\anaconda\\lib\\site-packages (from ipython->watermark) (52.0.0.post20210125)\r\n",
      "Requirement already satisfied: decorator in e:\\soft\\anaconda\\lib\\site-packages (from ipython->watermark) (5.0.6)\r\n",
      "Requirement already satisfied: prompt-toolkit!=3.0.0,!=3.0.1,<3.1.0,>=2.0.0 in e:\\soft\\anaconda\\lib\\site-packages (from ipython->watermark) (3.0.17)\r\n",
      "Requirement already satisfied: jedi>=0.16 in e:\\soft\\anaconda\\lib\\site-packages (from ipython->watermark) (0.17.2)\r\n",
      "Requirement already satisfied: colorama in e:\\soft\\anaconda\\lib\\site-packages (from ipython->watermark) (0.4.4)\r\n",
      "Requirement already satisfied: traitlets>=4.2 in e:\\soft\\anaconda\\lib\\site-packages (from ipython->watermark) (5.0.5)\r\n",
      "Requirement already satisfied: pickleshare in e:\\soft\\anaconda\\lib\\site-packages (from ipython->watermark) (0.7.5)\r\n",
      "Requirement already satisfied: parso<0.8.0,>=0.7.0 in e:\\soft\\anaconda\\lib\\site-packages (from jedi>=0.16->ipython->watermark) (0.7.0)\r\n",
      "Requirement already satisfied: wcwidth in e:\\soft\\anaconda\\lib\\site-packages (from prompt-toolkit!=3.0.0,!=3.0.1,<3.1.0,>=2.0.0->ipython->watermark) (0.2.5)\r\n",
      "Requirement already satisfied: ipython-genutils in e:\\soft\\anaconda\\lib\\site-packages (from traitlets>=4.2->ipython->watermark) (0.2.0)\r\n",
      "Installing collected packages: watermark\r\n",
      "Successfully installed watermark-2.3.0\r\n",
      "\r\n",
      "(base) F:\\Statsitical Learning Method\\perceptron>"
     ]
    }
   ],
   "source": [
    "%%cmd\n",
    "pip install watermark"
   ]
  },
  {
   "cell_type": "code",
   "execution_count": 1,
   "id": "3b5c1d99",
   "metadata": {},
   "outputs": [
    {
     "name": "stdout",
     "output_type": "stream",
     "text": [
      "Python implementation: CPython\n",
      "Python version       : 3.8.8\n",
      "IPython version      : 7.22.0\n",
      "\n",
      "numpy     : 1.18.5\n",
      "pandas    : 1.2.2\n",
      "matplotlib: 3.3.3\n",
      "scipy     : 1.6.2\n",
      "sklearn   : 0.24.1\n",
      "\n",
      "Compiler    : MSC v.1916 64 bit (AMD64)\n",
      "OS          : Windows\n",
      "Release     : 10\n",
      "Machine     : AMD64\n",
      "Processor   : Intel64 Family 6 Model 158 Stepping 13, GenuineIntel\n",
      "CPU cores   : 8\n",
      "Architecture: 64bit\n",
      "\n"
     ]
    }
   ],
   "source": [
    "%load_ext watermark\n",
    "%watermark  -d -v -m -p numpy,pandas,matplotlib,scipy,sklearn"
   ]
  },
  {
   "cell_type": "code",
   "execution_count": 3,
   "id": "9f3d5d2f",
   "metadata": {},
   "outputs": [],
   "source": [
    "# https://blog.csdn.net/Albert201605/article/details/79893585\n",
    "# 首先将官网下载的四个文件转化为易识别的csv格式\n",
    "def read_data(file_path):\n",
    "    import pandas as pd\n",
    "    import numpy as np\n",
    "    pd.read_csv(\"..\\data\\mnist_train.csv\"\")"
   ]
  },
  {
   "cell_type": "code",
   "execution_count": 2,
   "id": "f90eb44f",
   "metadata": {},
   "outputs": [
    {
     "data": {
      "text/plain": [
       "'F:\\\\Statsitical Learning Method\\\\perceptron'"
      ]
     },
     "execution_count": 2,
     "metadata": {},
     "output_type": "execute_result"
    }
   ],
   "source": [
    "pwd"
   ]
  },
  {
   "cell_type": "code",
   "execution_count": null,
   "id": "462d56d6",
   "metadata": {},
   "outputs": [],
   "source": []
  }
 ],
 "metadata": {
  "kernelspec": {
   "display_name": "Python 3",
   "language": "python",
   "name": "python3"
  },
  "language_info": {
   "codemirror_mode": {
    "name": "ipython",
    "version": 3
   },
   "file_extension": ".py",
   "mimetype": "text/x-python",
   "name": "python",
   "nbconvert_exporter": "python",
   "pygments_lexer": "ipython3",
   "version": "3.8.8"
  }
 },
 "nbformat": 4,
 "nbformat_minor": 5
}
