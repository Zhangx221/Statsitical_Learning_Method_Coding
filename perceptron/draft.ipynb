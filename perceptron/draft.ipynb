{
 "cells": [
  {
   "cell_type": "code",
   "execution_count": 1,
   "id": "28b8ff0a",
   "metadata": {},
   "outputs": [
    {
     "name": "stdout",
     "output_type": "stream",
     "text": [
      "Microsoft Windows [版本 10.0.19041.1415]\r\n",
      "(c) Microsoft Corporation。保留所有权利。\r\n",
      "\r\n",
      "(base) F:\\Statsitical Learning Method\\perceptron>pip install watermark\n",
      "Looking in indexes: https://pypi.tuna.tsinghua.edu.cn/simple\r\n",
      "Requirement already satisfied: watermark in e:\\soft\\anaconda\\lib\\site-packages (2.3.0)\r\n",
      "Requirement already satisfied: ipython in e:\\soft\\anaconda\\lib\\site-packages (from watermark) (7.22.0)\r\n",
      "Requirement already satisfied: decorator in e:\\soft\\anaconda\\lib\\site-packages (from ipython->watermark) (5.0.6)\r\n",
      "Requirement already satisfied: traitlets>=4.2 in e:\\soft\\anaconda\\lib\\site-packages (from ipython->watermark) (5.0.5)\r\n",
      "Requirement already satisfied: pygments in e:\\soft\\anaconda\\lib\\site-packages (from ipython->watermark) (2.8.1)\r\n",
      "Requirement already satisfied: prompt-toolkit!=3.0.0,!=3.0.1,<3.1.0,>=2.0.0 in e:\\soft\\anaconda\\lib\\site-packages (from ipython->watermark) (3.0.17)\r\n",
      "Requirement already satisfied: colorama in e:\\soft\\anaconda\\lib\\site-packages (from ipython->watermark) (0.4.4)\r\n",
      "Requirement already satisfied: jedi>=0.16 in e:\\soft\\anaconda\\lib\\site-packages (from ipython->watermark) (0.17.2)\r\n",
      "Requirement already satisfied: pickleshare in e:\\soft\\anaconda\\lib\\site-packages (from ipython->watermark) (0.7.5)\r\n",
      "Requirement already satisfied: backcall in e:\\soft\\anaconda\\lib\\site-packages (from ipython->watermark) (0.2.0)\r\n",
      "Requirement already satisfied: setuptools>=18.5 in e:\\soft\\anaconda\\lib\\site-packages (from ipython->watermark) (52.0.0.post20210125)\r\n",
      "Requirement already satisfied: parso<0.8.0,>=0.7.0 in e:\\soft\\anaconda\\lib\\site-packages (from jedi>=0.16->ipython->watermark) (0.7.0)\r\n",
      "Requirement already satisfied: wcwidth in e:\\soft\\anaconda\\lib\\site-packages (from prompt-toolkit!=3.0.0,!=3.0.1,<3.1.0,>=2.0.0->ipython->watermark) (0.2.5)\r\n",
      "Requirement already satisfied: ipython-genutils in e:\\soft\\anaconda\\lib\\site-packages (from traitlets>=4.2->ipython->watermark) (0.2.0)\r\n",
      "\r\n",
      "(base) F:\\Statsitical Learning Method\\perceptron>"
     ]
    }
   ],
   "source": [
    "%%cmd\n",
    "pip install watermark"
   ]
  },
  {
   "cell_type": "code",
   "execution_count": 2,
   "id": "3b5c1d99",
   "metadata": {},
   "outputs": [
    {
     "name": "stdout",
     "output_type": "stream",
     "text": [
      "Python implementation: CPython\n",
      "Python version       : 3.8.8\n",
      "IPython version      : 7.22.0\n",
      "\n",
      "numpy     : 1.18.5\n",
      "pandas    : 1.2.2\n",
      "matplotlib: 3.3.3\n",
      "scipy     : 1.6.2\n",
      "sklearn   : 0.24.1\n",
      "\n",
      "Compiler    : MSC v.1916 64 bit (AMD64)\n",
      "OS          : Windows\n",
      "Release     : 10\n",
      "Machine     : AMD64\n",
      "Processor   : Intel64 Family 6 Model 158 Stepping 13, GenuineIntel\n",
      "CPU cores   : 8\n",
      "Architecture: 64bit\n",
      "\n"
     ]
    }
   ],
   "source": [
    "%load_ext watermark\n",
    "%watermark  -d -v -m -p numpy,pandas,matplotlib,scipy,sklearn"
   ]
  },
  {
   "cell_type": "markdown",
   "id": "4b285780",
   "metadata": {},
   "source": [
    "http://yann.lecun.com/exdb/mnist/\n",
    " 首先将官网下载的四个文件转化为易识别的csv格式\n",
    " # 第一步读取文件返回读取好的Xtrain,Xtest,ytrain,ytest四个部分的数据"
   ]
  },
  {
   "cell_type": "code",
   "execution_count": 23,
   "id": "9f3d5d2f",
   "metadata": {},
   "outputs": [
    {
     "data": {
      "text/html": [
       "<div>\n",
       "<style scoped>\n",
       "    .dataframe tbody tr th:only-of-type {\n",
       "        vertical-align: middle;\n",
       "    }\n",
       "\n",
       "    .dataframe tbody tr th {\n",
       "        vertical-align: top;\n",
       "    }\n",
       "\n",
       "    .dataframe thead th {\n",
       "        text-align: right;\n",
       "    }\n",
       "</style>\n",
       "<table border=\"1\" class=\"dataframe\">\n",
       "  <thead>\n",
       "    <tr style=\"text-align: right;\">\n",
       "      <th></th>\n",
       "      <th>0</th>\n",
       "      <th>1</th>\n",
       "      <th>2</th>\n",
       "      <th>3</th>\n",
       "      <th>4</th>\n",
       "      <th>5</th>\n",
       "      <th>6</th>\n",
       "      <th>7</th>\n",
       "      <th>8</th>\n",
       "      <th>9</th>\n",
       "      <th>...</th>\n",
       "      <th>775</th>\n",
       "      <th>776</th>\n",
       "      <th>777</th>\n",
       "      <th>778</th>\n",
       "      <th>779</th>\n",
       "      <th>780</th>\n",
       "      <th>781</th>\n",
       "      <th>782</th>\n",
       "      <th>783</th>\n",
       "      <th>784</th>\n",
       "    </tr>\n",
       "  </thead>\n",
       "  <tbody>\n",
       "    <tr>\n",
       "      <th>0</th>\n",
       "      <td>5</td>\n",
       "      <td>0</td>\n",
       "      <td>0</td>\n",
       "      <td>0</td>\n",
       "      <td>0</td>\n",
       "      <td>0</td>\n",
       "      <td>0</td>\n",
       "      <td>0</td>\n",
       "      <td>0</td>\n",
       "      <td>0</td>\n",
       "      <td>...</td>\n",
       "      <td>0</td>\n",
       "      <td>0</td>\n",
       "      <td>0</td>\n",
       "      <td>0</td>\n",
       "      <td>0</td>\n",
       "      <td>0</td>\n",
       "      <td>0</td>\n",
       "      <td>0</td>\n",
       "      <td>0</td>\n",
       "      <td>0</td>\n",
       "    </tr>\n",
       "    <tr>\n",
       "      <th>1</th>\n",
       "      <td>0</td>\n",
       "      <td>0</td>\n",
       "      <td>0</td>\n",
       "      <td>0</td>\n",
       "      <td>0</td>\n",
       "      <td>0</td>\n",
       "      <td>0</td>\n",
       "      <td>0</td>\n",
       "      <td>0</td>\n",
       "      <td>0</td>\n",
       "      <td>...</td>\n",
       "      <td>0</td>\n",
       "      <td>0</td>\n",
       "      <td>0</td>\n",
       "      <td>0</td>\n",
       "      <td>0</td>\n",
       "      <td>0</td>\n",
       "      <td>0</td>\n",
       "      <td>0</td>\n",
       "      <td>0</td>\n",
       "      <td>0</td>\n",
       "    </tr>\n",
       "    <tr>\n",
       "      <th>2</th>\n",
       "      <td>4</td>\n",
       "      <td>0</td>\n",
       "      <td>0</td>\n",
       "      <td>0</td>\n",
       "      <td>0</td>\n",
       "      <td>0</td>\n",
       "      <td>0</td>\n",
       "      <td>0</td>\n",
       "      <td>0</td>\n",
       "      <td>0</td>\n",
       "      <td>...</td>\n",
       "      <td>0</td>\n",
       "      <td>0</td>\n",
       "      <td>0</td>\n",
       "      <td>0</td>\n",
       "      <td>0</td>\n",
       "      <td>0</td>\n",
       "      <td>0</td>\n",
       "      <td>0</td>\n",
       "      <td>0</td>\n",
       "      <td>0</td>\n",
       "    </tr>\n",
       "    <tr>\n",
       "      <th>3</th>\n",
       "      <td>1</td>\n",
       "      <td>0</td>\n",
       "      <td>0</td>\n",
       "      <td>0</td>\n",
       "      <td>0</td>\n",
       "      <td>0</td>\n",
       "      <td>0</td>\n",
       "      <td>0</td>\n",
       "      <td>0</td>\n",
       "      <td>0</td>\n",
       "      <td>...</td>\n",
       "      <td>0</td>\n",
       "      <td>0</td>\n",
       "      <td>0</td>\n",
       "      <td>0</td>\n",
       "      <td>0</td>\n",
       "      <td>0</td>\n",
       "      <td>0</td>\n",
       "      <td>0</td>\n",
       "      <td>0</td>\n",
       "      <td>0</td>\n",
       "    </tr>\n",
       "    <tr>\n",
       "      <th>4</th>\n",
       "      <td>9</td>\n",
       "      <td>0</td>\n",
       "      <td>0</td>\n",
       "      <td>0</td>\n",
       "      <td>0</td>\n",
       "      <td>0</td>\n",
       "      <td>0</td>\n",
       "      <td>0</td>\n",
       "      <td>0</td>\n",
       "      <td>0</td>\n",
       "      <td>...</td>\n",
       "      <td>0</td>\n",
       "      <td>0</td>\n",
       "      <td>0</td>\n",
       "      <td>0</td>\n",
       "      <td>0</td>\n",
       "      <td>0</td>\n",
       "      <td>0</td>\n",
       "      <td>0</td>\n",
       "      <td>0</td>\n",
       "      <td>0</td>\n",
       "    </tr>\n",
       "    <tr>\n",
       "      <th>...</th>\n",
       "      <td>...</td>\n",
       "      <td>...</td>\n",
       "      <td>...</td>\n",
       "      <td>...</td>\n",
       "      <td>...</td>\n",
       "      <td>...</td>\n",
       "      <td>...</td>\n",
       "      <td>...</td>\n",
       "      <td>...</td>\n",
       "      <td>...</td>\n",
       "      <td>...</td>\n",
       "      <td>...</td>\n",
       "      <td>...</td>\n",
       "      <td>...</td>\n",
       "      <td>...</td>\n",
       "      <td>...</td>\n",
       "      <td>...</td>\n",
       "      <td>...</td>\n",
       "      <td>...</td>\n",
       "      <td>...</td>\n",
       "      <td>...</td>\n",
       "    </tr>\n",
       "    <tr>\n",
       "      <th>59995</th>\n",
       "      <td>8</td>\n",
       "      <td>0</td>\n",
       "      <td>0</td>\n",
       "      <td>0</td>\n",
       "      <td>0</td>\n",
       "      <td>0</td>\n",
       "      <td>0</td>\n",
       "      <td>0</td>\n",
       "      <td>0</td>\n",
       "      <td>0</td>\n",
       "      <td>...</td>\n",
       "      <td>0</td>\n",
       "      <td>0</td>\n",
       "      <td>0</td>\n",
       "      <td>0</td>\n",
       "      <td>0</td>\n",
       "      <td>0</td>\n",
       "      <td>0</td>\n",
       "      <td>0</td>\n",
       "      <td>0</td>\n",
       "      <td>0</td>\n",
       "    </tr>\n",
       "    <tr>\n",
       "      <th>59996</th>\n",
       "      <td>3</td>\n",
       "      <td>0</td>\n",
       "      <td>0</td>\n",
       "      <td>0</td>\n",
       "      <td>0</td>\n",
       "      <td>0</td>\n",
       "      <td>0</td>\n",
       "      <td>0</td>\n",
       "      <td>0</td>\n",
       "      <td>0</td>\n",
       "      <td>...</td>\n",
       "      <td>0</td>\n",
       "      <td>0</td>\n",
       "      <td>0</td>\n",
       "      <td>0</td>\n",
       "      <td>0</td>\n",
       "      <td>0</td>\n",
       "      <td>0</td>\n",
       "      <td>0</td>\n",
       "      <td>0</td>\n",
       "      <td>0</td>\n",
       "    </tr>\n",
       "    <tr>\n",
       "      <th>59997</th>\n",
       "      <td>5</td>\n",
       "      <td>0</td>\n",
       "      <td>0</td>\n",
       "      <td>0</td>\n",
       "      <td>0</td>\n",
       "      <td>0</td>\n",
       "      <td>0</td>\n",
       "      <td>0</td>\n",
       "      <td>0</td>\n",
       "      <td>0</td>\n",
       "      <td>...</td>\n",
       "      <td>0</td>\n",
       "      <td>0</td>\n",
       "      <td>0</td>\n",
       "      <td>0</td>\n",
       "      <td>0</td>\n",
       "      <td>0</td>\n",
       "      <td>0</td>\n",
       "      <td>0</td>\n",
       "      <td>0</td>\n",
       "      <td>0</td>\n",
       "    </tr>\n",
       "    <tr>\n",
       "      <th>59998</th>\n",
       "      <td>6</td>\n",
       "      <td>0</td>\n",
       "      <td>0</td>\n",
       "      <td>0</td>\n",
       "      <td>0</td>\n",
       "      <td>0</td>\n",
       "      <td>0</td>\n",
       "      <td>0</td>\n",
       "      <td>0</td>\n",
       "      <td>0</td>\n",
       "      <td>...</td>\n",
       "      <td>0</td>\n",
       "      <td>0</td>\n",
       "      <td>0</td>\n",
       "      <td>0</td>\n",
       "      <td>0</td>\n",
       "      <td>0</td>\n",
       "      <td>0</td>\n",
       "      <td>0</td>\n",
       "      <td>0</td>\n",
       "      <td>0</td>\n",
       "    </tr>\n",
       "    <tr>\n",
       "      <th>59999</th>\n",
       "      <td>8</td>\n",
       "      <td>0</td>\n",
       "      <td>0</td>\n",
       "      <td>0</td>\n",
       "      <td>0</td>\n",
       "      <td>0</td>\n",
       "      <td>0</td>\n",
       "      <td>0</td>\n",
       "      <td>0</td>\n",
       "      <td>0</td>\n",
       "      <td>...</td>\n",
       "      <td>0</td>\n",
       "      <td>0</td>\n",
       "      <td>0</td>\n",
       "      <td>0</td>\n",
       "      <td>0</td>\n",
       "      <td>0</td>\n",
       "      <td>0</td>\n",
       "      <td>0</td>\n",
       "      <td>0</td>\n",
       "      <td>0</td>\n",
       "    </tr>\n",
       "  </tbody>\n",
       "</table>\n",
       "<p>60000 rows × 785 columns</p>\n",
       "</div>"
      ],
      "text/plain": [
       "       0    1    2    3    4    5    6    7    8    9    ...  775  776  777  \\\n",
       "0        5    0    0    0    0    0    0    0    0    0  ...    0    0    0   \n",
       "1        0    0    0    0    0    0    0    0    0    0  ...    0    0    0   \n",
       "2        4    0    0    0    0    0    0    0    0    0  ...    0    0    0   \n",
       "3        1    0    0    0    0    0    0    0    0    0  ...    0    0    0   \n",
       "4        9    0    0    0    0    0    0    0    0    0  ...    0    0    0   \n",
       "...    ...  ...  ...  ...  ...  ...  ...  ...  ...  ...  ...  ...  ...  ...   \n",
       "59995    8    0    0    0    0    0    0    0    0    0  ...    0    0    0   \n",
       "59996    3    0    0    0    0    0    0    0    0    0  ...    0    0    0   \n",
       "59997    5    0    0    0    0    0    0    0    0    0  ...    0    0    0   \n",
       "59998    6    0    0    0    0    0    0    0    0    0  ...    0    0    0   \n",
       "59999    8    0    0    0    0    0    0    0    0    0  ...    0    0    0   \n",
       "\n",
       "       778  779  780  781  782  783  784  \n",
       "0        0    0    0    0    0    0    0  \n",
       "1        0    0    0    0    0    0    0  \n",
       "2        0    0    0    0    0    0    0  \n",
       "3        0    0    0    0    0    0    0  \n",
       "4        0    0    0    0    0    0    0  \n",
       "...    ...  ...  ...  ...  ...  ...  ...  \n",
       "59995    0    0    0    0    0    0    0  \n",
       "59996    0    0    0    0    0    0    0  \n",
       "59997    0    0    0    0    0    0    0  \n",
       "59998    0    0    0    0    0    0    0  \n",
       "59999    0    0    0    0    0    0    0  \n",
       "\n",
       "[60000 rows x 785 columns]"
      ]
     },
     "execution_count": 23,
     "metadata": {},
     "output_type": "execute_result"
    }
   ],
   "source": [
    "import pandas as pd\n",
    "import numpy as np\n",
    "train_data = pd.read_csv(\"../data/mnist_train.csv\",header=None)\n",
    "train_data"
   ]
  },
  {
   "cell_type": "code",
   "execution_count": 101,
   "id": "f90eb44f",
   "metadata": {},
   "outputs": [],
   "source": [
    "Xtrain,ytrain = train_data.iloc[:,1:],train_data.iloc[:,0]"
   ]
  },
  {
   "cell_type": "code",
   "execution_count": 5,
   "id": "d707f575",
   "metadata": {},
   "outputs": [],
   "source": [
    "ytrain = np.where(ytrain >=5,1,-1)"
   ]
  },
  {
   "cell_type": "code",
   "execution_count": 6,
   "id": "462d56d6",
   "metadata": {},
   "outputs": [
    {
     "data": {
      "text/plain": [
       "(array([-1, -1, -1, ...,  1,  1,  1]), -1193)"
      ]
     },
     "execution_count": 6,
     "metadata": {},
     "output_type": "execute_result"
    }
   ],
   "source": [
    "ytrain, ytrain.sum() "
   ]
  },
  {
   "cell_type": "code",
   "execution_count": 7,
   "id": "961eea9c",
   "metadata": {},
   "outputs": [],
   "source": [
    "def data_load(train_filepath,test_filepath):\n",
    "    import pandas as pd\n",
    "    train_data = pd.read_csv(train_filepath,header=None)\n",
    "    test_data = pd.read_csv(test_filepath,header=None)\n",
    "    Xtrain,ytrain = train_data.iloc[:,1:],train_data.iloc[:,0]\n",
    "    Xtest,ytest = test_data.iloc[:,1:],test_data.iloc[:,0]\n",
    "    ytrain = np.where(ytrain >=5,1,-1)\n",
    "    ytest = np.where(ytest >=5,1,-1)\n",
    "    return Xtrain,Xtest,ytrain,ytest"
   ]
  },
  {
   "cell_type": "markdown",
   "id": "4d389f14",
   "metadata": {},
   "source": [
    "# 第二步开始构建模型"
   ]
  },
  {
   "cell_type": "code",
   "execution_count": 8,
   "id": "c1f28e26",
   "metadata": {},
   "outputs": [
    {
     "data": {
      "text/plain": [
       "(784,)"
      ]
     },
     "execution_count": 8,
     "metadata": {},
     "output_type": "execute_result"
    }
   ],
   "source": [
    "import numpy as np\n",
    "w = np.zeros(Xtrain.shape[1])\n",
    "w.shape"
   ]
  },
  {
   "cell_type": "code",
   "execution_count": 9,
   "id": "59c51226",
   "metadata": {},
   "outputs": [],
   "source": [
    "b = 0"
   ]
  },
  {
   "cell_type": "code",
   "execution_count": 10,
   "id": "4619d78f",
   "metadata": {},
   "outputs": [],
   "source": [
    "a = 0.001"
   ]
  },
  {
   "cell_type": "code",
   "execution_count": 19,
   "id": "9597f29d",
   "metadata": {},
   "outputs": [],
   "source": [
    "max_round = 50 # 最大迭代步数<=此项*样本数"
   ]
  },
  {
   "cell_type": "code",
   "execution_count": 33,
   "id": "08a623b7",
   "metadata": {
    "scrolled": true
   },
   "outputs": [],
   "source": [
    "for i in range(max_round):\n",
    "\n",
    "    for j in range(Xtrain.shape[0]): # 每个样本的特征\n",
    "        x = Xtrain.iloc[j,:]\n",
    "        y = ytrain[j]\n",
    "        if y*(w.dot(x)+b) <= 0:\n",
    "            w = w + a*y*x\n",
    "            b = b + a*y"
   ]
  },
  {
   "cell_type": "code",
   "execution_count": 32,
   "id": "2f1789fb",
   "metadata": {
    "scrolled": true
   },
   "outputs": [
    {
     "data": {
      "text/plain": [
       "-1"
      ]
     },
     "execution_count": 32,
     "metadata": {},
     "output_type": "execute_result"
    }
   ],
   "source": []
  },
  {
   "cell_type": "code",
   "execution_count": 25,
   "id": "94d76553",
   "metadata": {},
   "outputs": [],
   "source": [
    "def perceptron(Xtrain,ytrain,a=0.001,max_round=50):\n",
    "    import numpy as np\n",
    "    w = np.zeros(Xtrain.shape(1))\n",
    "    b = 0\n",
    "    for i in range(max_round):\n",
    "        tot_num = Xtrain.shape[0]\n",
    "        for j in range(Xtrain.shape[0]): # 每个样本的特征\n",
    "            x = Xtrain.iloc[j,:]\n",
    "            y = ytrain[j]\n",
    "            if y*(w.dot(x)+b) <= 0:\n",
    "                w = w + a*y*x\n",
    "                b = b + a*y\n",
    "    return w,b"
   ]
  },
  {
   "cell_type": "markdown",
   "id": "117dabd7",
   "metadata": {},
   "source": [
    "## 第三步模型验证"
   ]
  },
  {
   "cell_type": "code",
   "execution_count": 59,
   "id": "2a763bd5",
   "metadata": {},
   "outputs": [
    {
     "data": {
      "text/plain": [
       "0.8089"
      ]
     },
     "execution_count": 59,
     "metadata": {},
     "output_type": "execute_result"
    }
   ],
   "source": [
    "test_data = pd.read_csv(\"../data/mnist_test.csv\",header=None)\n",
    "Xtest,ytest = test_data.iloc[:,1:],test_data.iloc[:,0]\n",
    "ytest = np.where(ytest >=5,1,-1)\n",
    "tot_num = Xtest.shape[0]\n",
    "error_num = 0\n",
    "for j in range(tot_num):\n",
    "    x = Xtest.iloc[j,:]\n",
    "    y = ytest[j]\n",
    "    if y*(w.values.dot(x)+b) <= 0:\n",
    "        error_num += 1\n",
    "        \n",
    "1- error_num/tot_num"
   ]
  },
  {
   "cell_type": "code",
   "execution_count": 58,
   "id": "a99da252",
   "metadata": {},
   "outputs": [],
   "source": [
    "def score(w,b,Xtest,ytest):\n",
    "    import pandas as pd\n",
    "    import numpy as np\n",
    "    tot_num = Xtest.shape[0]\n",
    "    error_num = 0\n",
    "    for j in range(tot_num):\n",
    "        x = Xtest.iloc[j,:]\n",
    "        y = ytest[j]\n",
    "        if y*(w.values.dot(x)+b) <= 0:\n",
    "            error_num += 1\n",
    "    return 1- error_num/tot_num"
   ]
  },
  {
   "cell_type": "code",
   "execution_count": 69,
   "id": "9a027458",
   "metadata": {},
   "outputs": [
    {
     "name": "stdout",
     "output_type": "stream",
     "text": [
      "25.00%\n"
     ]
    }
   ],
   "source": [
    "s = 0.25\n",
    "print(f\"{s:.2%}\")"
   ]
  },
  {
   "cell_type": "code",
   "execution_count": 70,
   "id": "72a3942a",
   "metadata": {},
   "outputs": [
    {
     "data": {
      "text/plain": [
       "'94'"
      ]
     },
     "execution_count": 70,
     "metadata": {},
     "output_type": "execute_result"
    }
   ],
   "source": [
    "max(Xtrain)"
   ]
  },
  {
   "cell_type": "code",
   "execution_count": 99,
   "id": "2525b835",
   "metadata": {},
   "outputs": [],
   "source": [
    "Xtrain = (Xtrain - float(min(Xtrain)))/94"
   ]
  },
  {
   "cell_type": "code",
   "execution_count": 103,
   "id": "0214e555",
   "metadata": {},
   "outputs": [],
   "source": [
    "Xtrain = Xtrain /255"
   ]
  },
  {
   "cell_type": "code",
   "execution_count": 104,
   "id": "fbcd4fd0",
   "metadata": {},
   "outputs": [
    {
     "data": {
      "text/plain": [
       "1.0"
      ]
     },
     "execution_count": 104,
     "metadata": {},
     "output_type": "execute_result"
    }
   ],
   "source": [
    "Xtrain.max().max()"
   ]
  },
  {
   "cell_type": "code",
   "execution_count": null,
   "id": "7111ef7b",
   "metadata": {},
   "outputs": [],
   "source": []
  }
 ],
 "metadata": {
  "kernelspec": {
   "display_name": "Python 3",
   "language": "python",
   "name": "python3"
  },
  "language_info": {
   "codemirror_mode": {
    "name": "ipython",
    "version": 3
   },
   "file_extension": ".py",
   "mimetype": "text/x-python",
   "name": "python",
   "nbconvert_exporter": "python",
   "pygments_lexer": "ipython3",
   "version": "3.8.8"
  }
 },
 "nbformat": 4,
 "nbformat_minor": 5
}
