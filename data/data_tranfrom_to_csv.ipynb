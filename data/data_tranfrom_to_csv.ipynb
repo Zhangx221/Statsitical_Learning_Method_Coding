{
 "cells": [
  {
   "cell_type": "markdown",
   "id": "f96cac92",
   "metadata": {},
   "source": [
    "因为原始从官网http://yann.lecun.com/exdb/mnist/ 上下载的四个文件train-images.idx3-ubyte（训练集的特征），train-labels.idx1-ubyte（训练集的标签），t10k-images.idx3-ubyte（测试集的特征），t10k-labels.idx1-ubyte（测试集的标签）并非常用的文件格式，在下面这个网络上找到可以将原本的文件格式（我也没见过的格式）转换为常见的csv格式，并将训练集的特征和标签整合到mnist_train.csv ，并将测试集的特征和标签整合到mnist_test.csv https://pjreddie.com/projects/mnist-in-csv/"
   ]
  },
  {
   "cell_type": "code",
   "execution_count": 3,
   "id": "9ba220ac",
   "metadata": {},
   "outputs": [],
   "source": [
    "# https://pjreddie.com/projects/mnist-in-csv/\n",
    "def convert(imgf, labelf, outf, n):\n",
    "    f = open(imgf, \"rb\")\n",
    "    o = open(outf, \"w\")\n",
    "    l = open(labelf, \"rb\")\n",
    " \n",
    "    f.read(16)\n",
    "    l.read(8)\n",
    "    images = []\n",
    " \n",
    "    for i in range(n):\n",
    "        image = [ord(l.read(1))]\n",
    "        for j in range(28*28):\n",
    "            image.append(ord(f.read(1)))\n",
    "        images.append(image)\n",
    " \n",
    "    for image in images:\n",
    "        o.write(\",\".join(str(pix) for pix in image)+\"\\n\")\n",
    "    f.close()\n",
    "    o.close()\n",
    "    l.close()\n",
    " \n",
    "convert(\"./train-images.idx3-ubyte\", \"./train-labels.idx1-ubyte\",\n",
    "        \"mnist_train.csv\", 50000)  # 原数据有60000，因为github上传100M文件有点麻烦，取50000个不影响\n",
    "convert(\"./t10k-images.idx3-ubyte\", \"./t10k-labels.idx1-ubyte\",\n",
    "        \"mnist_test.csv\", 10000)"
   ]
  },
  {
   "cell_type": "code",
   "execution_count": 2,
   "id": "fc740802",
   "metadata": {},
   "outputs": [],
   "source": [
    "import pandas as pd\n",
    "import matplotlib.pyplot as plt"
   ]
  },
  {
   "cell_type": "code",
   "execution_count": 3,
   "id": "f0f920ba",
   "metadata": {
    "pycharm": {
     "name": "#%%\n"
    }
   },
   "outputs": [],
   "source": [
    "data = pd.read_csv(\"mnist_train.csv\")"
   ]
  },
  {
   "cell_type": "code",
   "execution_count": 4,
   "id": "03caa17a",
   "metadata": {
    "pycharm": {
     "name": "#%%\n"
    }
   },
   "outputs": [
    {
     "data": {
      "text/plain": [
       "(49999, 785)"
      ]
     },
     "execution_count": 4,
     "metadata": {},
     "output_type": "execute_result"
    }
   ],
   "source": [
    "data.shape"
   ]
  },
  {
   "cell_type": "code",
   "execution_count": 5,
   "id": "b7141606",
   "metadata": {
    "pycharm": {
     "name": "#%%\n"
    }
   },
   "outputs": [
    {
     "data": {
      "image/png": "[encoded data removed]",
      "text/plain": [
       "<Figure size 432x288 with 1 Axes>"
      ]
     },
     "metadata": {
      "needs_background": "light"
     },
     "output_type": "display_data"
    }
   ],
   "source": [
    "plt.imshow(data.iloc[0,1:].values.reshape(28,28))\n",
    "plt.show()"
   ]
  },
  {
   "cell_type": "code",
   "execution_count": 22,
   "id": "e89e95f5",
   "metadata": {
    "pycharm": {
     "name": "#%%\n"
    }
   },
   "outputs": [
    {
     "data": {
      "image/png": "[encoded data removed]",
      "text/plain": [
       "<Figure size 648x648 with 9 Axes>"
      ]
     },
     "metadata": {},
     "output_type": "display_data"
    }
   ],
   "source": [
    "# 随便看一下前九个图像\n",
    "fig ,axes = plt.subplots(3,3,figsize=(9,9),subplot_kw={\"xticks\":[],\"yticks\":[]})\n",
    "\n",
    "for i in range(9):\n",
    "    ax = axes.reshape(-1)[i]\n",
    "    ax.imshow(data.iloc[i,1:].values.reshape(28,28))\n",
    "plt.tight_layout()\n",
    "\n",
    "plt.show()"
   ]
  },
  {
   "cell_type": "code",
   "execution_count": null,
   "id": "2635688b",
   "metadata": {
    "pycharm": {
     "name": "#%%\n"
    }
   },
   "outputs": [],
   "source": []
  }
 ],
 "metadata": {
  "kernelspec": {
   "display_name": "Python 3",
   "language": "python",
   "name": "python3"
  },
  "language_info": {
   "codemirror_mode": {
    "name": "ipython",
    "version": 3
   },
   "file_extension": ".py",
   "mimetype": "text/x-python",
   "name": "python",
   "nbconvert_exporter": "python",
   "pygments_lexer": "ipython3",
   "version": "3.8.8"
  }
 },
 "nbformat": 4,
 "nbformat_minor": 5
}